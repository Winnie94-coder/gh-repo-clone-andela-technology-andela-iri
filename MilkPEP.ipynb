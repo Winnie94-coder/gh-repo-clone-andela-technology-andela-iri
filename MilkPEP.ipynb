{
 "cells": [
  {
   "cell_type": "code",
   "execution_count": null,
   "id": "1fdaaa80",
   "metadata": {},
   "outputs": [],
   "source": []
  },
  {
   "cell_type": "code",
   "execution_count": null,
   "id": "7d9ca9fe",
   "metadata": {},
   "outputs": [],
   "source": [
    "# Import pre-built packages\n",
    "import os  # Directory and Basic Configs\n",
    "\n",
    "from datetime import datetime  # Time-series management\n",
    "from pathlib import Path  # Insert\n",
    "from typing import Any, Dict, List, Tuple  # Insert\n",
    "\n",
    "# Import R dplyr's data wrangling functions\n",
    "import matplotlib.pyplot as plt  # Plotting environment\n",
    "import numpy as np  # Math\n",
    "import pandas as pd  # Data Wrangling\n",
    "\n",
    "# Set Default Background Colors\n",
    "from matplotlib import style\n",
    "\n",
    "# Import user-defined functions\n",
    "from mmm.plots import (\n",
    "    grouped_bar_plot,\n",
    "    shaded_line_and_line_plot,\n",
    "    shaded_line_and_stacked_bar_plot,\n",
    "    stacked_bar_graph,\n",
    ")\n",
    "from mmm.preprocessing import (\n",
    "    add_to_dict,\n",
    "    adjust_strings,\n",
    "    assign_reporting_periods_and_filter,\n",
    "    collapse_categories,\n",
    "    filter_df,\n",
    "    gen_wide_table,\n",
    "    imput_null_categories,\n",
    "    merge_mmm_tables,\n",
    "    on_day,\n",
    "    pivot_table,\n",
    "    shift_datetime_index,\n",
    ")\n",
    "\n",
    "# Set the plotting style (useful for background interfaces)\n",
    "plt.style.use(\"seaborn-white\")\n",
    "\n",
    "# Change the working directory\n",
    "#data_dir = Path(\"C:\\\\Users\\\\Lucas\\\\AppData\\\\Local\\\\Google\\\\Cloud SDK\\\\dec_9_2021\\\\\")\n",
    "\n",
    "client_name = \"Church _ Dwight (Trojan)\"\n",
    "\n",
    "# Change directory so that we can import our builtin-functions for plotting. Ideally, this should be the same directory from the Google Cloud Platform on your Local Server\n",
    "os.chdir(data_dir / client_name)\n",
    "\n",
    "# Print Actual Directory and check if path has been set properly\n",
    "print(\"The new directory is now \" + os.getcwd() + \".\")\n",
    "data_dir.exists()"
   ]
  }
 ],
 "metadata": {
  "kernelspec": {
   "display_name": "Python 3",
   "language": "python",
   "name": "python3"
  },
  "language_info": {
   "codemirror_mode": {
    "name": "ipython",
    "version": 3
   },
   "file_extension": ".py",
   "mimetype": "text/x-python",
   "name": "python",
   "nbconvert_exporter": "python",
   "pygments_lexer": "ipython3",
   "version": "3.8.8"
  }
 },
 "nbformat": 4,
 "nbformat_minor": 5
}
